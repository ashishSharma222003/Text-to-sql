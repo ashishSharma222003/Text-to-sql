{
 "cells": [
  {
   "cell_type": "code",
   "execution_count": 1,
   "metadata": {},
   "outputs": [
    {
     "name": "stdout",
     "output_type": "stream",
     "text": [
      "Requirement already satisfied: llama-index-llms-openai in c:\\users\\ashish\\appdata\\local\\programs\\python\\python39\\lib\\site-packages (0.1.22)\n",
      "Requirement already satisfied: llama-index-core<0.11.0,>=0.10.24 in c:\\users\\ashish\\appdata\\local\\programs\\python\\python39\\lib\\site-packages (from llama-index-llms-openai) (0.10.43)\n",
      "Requirement already satisfied: PyYAML>=6.0.1 in c:\\users\\ashish\\appdata\\local\\programs\\python\\python39\\lib\\site-packages (from llama-index-core<0.11.0,>=0.10.24->llama-index-llms-openai) (6.0.1)\n",
      "Requirement already satisfied: SQLAlchemy>=1.4.49 in c:\\users\\ashish\\appdata\\local\\programs\\python\\python39\\lib\\site-packages (from SQLAlchemy[asyncio]>=1.4.49->llama-index-core<0.11.0,>=0.10.24->llama-index-llms-openai) (2.0.28)\n",
      "Requirement already satisfied: aiohttp<4.0.0,>=3.8.6 in c:\\users\\ashish\\appdata\\local\\programs\\python\\python39\\lib\\site-packages (from llama-index-core<0.11.0,>=0.10.24->llama-index-llms-openai) (3.9.3)\n",
      "Requirement already satisfied: dataclasses-json in c:\\users\\ashish\\appdata\\local\\programs\\python\\python39\\lib\\site-packages (from llama-index-core<0.11.0,>=0.10.24->llama-index-llms-openai) (0.6.4)\n",
      "Requirement already satisfied: deprecated>=1.2.9.3 in c:\\users\\ashish\\appdata\\local\\programs\\python\\python39\\lib\\site-packages (from llama-index-core<0.11.0,>=0.10.24->llama-index-llms-openai) (1.2.14)\n",
      "Requirement already satisfied: dirtyjson<2.0.0,>=1.0.8 in c:\\users\\ashish\\appdata\\local\\programs\\python\\python39\\lib\\site-packages (from llama-index-core<0.11.0,>=0.10.24->llama-index-llms-openai) (1.0.8)\n",
      "Requirement already satisfied: fsspec>=2023.5.0 in c:\\users\\ashish\\appdata\\local\\programs\\python\\python39\\lib\\site-packages (from llama-index-core<0.11.0,>=0.10.24->llama-index-llms-openai) (2023.12.2)\n",
      "Requirement already satisfied: httpx in c:\\users\\ashish\\appdata\\local\\programs\\python\\python39\\lib\\site-packages (from llama-index-core<0.11.0,>=0.10.24->llama-index-llms-openai) (0.24.1)\n",
      "Requirement already satisfied: llamaindex-py-client<0.2.0,>=0.1.18 in c:\\users\\ashish\\appdata\\local\\programs\\python\\python39\\lib\\site-packages (from llama-index-core<0.11.0,>=0.10.24->llama-index-llms-openai) (0.1.19)\n",
      "Requirement already satisfied: nest-asyncio<2.0.0,>=1.5.8 in c:\\users\\ashish\\appdata\\local\\programs\\python\\python39\\lib\\site-packages (from llama-index-core<0.11.0,>=0.10.24->llama-index-llms-openai) (1.6.0)\n",
      "Requirement already satisfied: networkx>=3.0 in c:\\users\\ashish\\appdata\\local\\programs\\python\\python39\\lib\\site-packages (from llama-index-core<0.11.0,>=0.10.24->llama-index-llms-openai) (3.1)\n",
      "Requirement already satisfied: nltk<4.0.0,>=3.8.1 in c:\\users\\ashish\\appdata\\local\\programs\\python\\python39\\lib\\site-packages (from llama-index-core<0.11.0,>=0.10.24->llama-index-llms-openai) (3.8.1)\n",
      "Requirement already satisfied: numpy in c:\\users\\ashish\\appdata\\local\\programs\\python\\python39\\lib\\site-packages (from llama-index-core<0.11.0,>=0.10.24->llama-index-llms-openai) (1.23.5)\n",
      "Requirement already satisfied: openai>=1.1.0 in c:\\users\\ashish\\appdata\\local\\programs\\python\\python39\\lib\\site-packages (from llama-index-core<0.11.0,>=0.10.24->llama-index-llms-openai) (1.13.3)\n",
      "Requirement already satisfied: pandas in c:\\users\\ashish\\appdata\\local\\programs\\python\\python39\\lib\\site-packages (from llama-index-core<0.11.0,>=0.10.24->llama-index-llms-openai) (2.2.0)\n",
      "Requirement already satisfied: pillow>=9.0.0 in c:\\users\\ashish\\appdata\\local\\programs\\python\\python39\\lib\\site-packages (from llama-index-core<0.11.0,>=0.10.24->llama-index-llms-openai) (9.4.0)\n",
      "Requirement already satisfied: requests>=2.31.0 in c:\\users\\ashish\\appdata\\local\\programs\\python\\python39\\lib\\site-packages (from llama-index-core<0.11.0,>=0.10.24->llama-index-llms-openai) (2.31.0)\n",
      "Requirement already satisfied: tenacity<9.0.0,>=8.2.0 in c:\\users\\ashish\\appdata\\local\\programs\\python\\python39\\lib\\site-packages (from llama-index-core<0.11.0,>=0.10.24->llama-index-llms-openai) (8.2.3)\n",
      "Requirement already satisfied: tiktoken>=0.3.3 in c:\\users\\ashish\\appdata\\local\\programs\\python\\python39\\lib\\site-packages (from llama-index-core<0.11.0,>=0.10.24->llama-index-llms-openai) (0.6.0)\n",
      "Requirement already satisfied: tqdm<5.0.0,>=4.66.1 in c:\\users\\ashish\\appdata\\local\\programs\\python\\python39\\lib\\site-packages (from llama-index-core<0.11.0,>=0.10.24->llama-index-llms-openai) (4.66.1)\n",
      "Requirement already satisfied: typing-extensions>=4.5.0 in c:\\users\\ashish\\appdata\\local\\programs\\python\\python39\\lib\\site-packages (from llama-index-core<0.11.0,>=0.10.24->llama-index-llms-openai) (4.10.0)\n",
      "Requirement already satisfied: typing-inspect>=0.8.0 in c:\\users\\ashish\\appdata\\local\\programs\\python\\python39\\lib\\site-packages (from llama-index-core<0.11.0,>=0.10.24->llama-index-llms-openai) (0.9.0)\n",
      "Requirement already satisfied: wrapt in c:\\users\\ashish\\appdata\\roaming\\python\\python39\\site-packages (from llama-index-core<0.11.0,>=0.10.24->llama-index-llms-openai) (1.12.1)\n",
      "Requirement already satisfied: aiosignal>=1.1.2 in c:\\users\\ashish\\appdata\\local\\programs\\python\\python39\\lib\\site-packages (from aiohttp<4.0.0,>=3.8.6->llama-index-core<0.11.0,>=0.10.24->llama-index-llms-openai) (1.3.1)\n",
      "Requirement already satisfied: attrs>=17.3.0 in c:\\users\\ashish\\appdata\\local\\programs\\python\\python39\\lib\\site-packages (from aiohttp<4.0.0,>=3.8.6->llama-index-core<0.11.0,>=0.10.24->llama-index-llms-openai) (23.2.0)\n",
      "Requirement already satisfied: frozenlist>=1.1.1 in c:\\users\\ashish\\appdata\\local\\programs\\python\\python39\\lib\\site-packages (from aiohttp<4.0.0,>=3.8.6->llama-index-core<0.11.0,>=0.10.24->llama-index-llms-openai) (1.4.1)\n",
      "Requirement already satisfied: multidict<7.0,>=4.5 in c:\\users\\ashish\\appdata\\local\\programs\\python\\python39\\lib\\site-packages (from aiohttp<4.0.0,>=3.8.6->llama-index-core<0.11.0,>=0.10.24->llama-index-llms-openai) (6.0.5)\n",
      "Requirement already satisfied: yarl<2.0,>=1.0 in c:\\users\\ashish\\appdata\\local\\programs\\python\\python39\\lib\\site-packages (from aiohttp<4.0.0,>=3.8.6->llama-index-core<0.11.0,>=0.10.24->llama-index-llms-openai) (1.9.4)\n",
      "Requirement already satisfied: async-timeout<5.0,>=4.0 in c:\\users\\ashish\\appdata\\local\\programs\\python\\python39\\lib\\site-packages (from aiohttp<4.0.0,>=3.8.6->llama-index-core<0.11.0,>=0.10.24->llama-index-llms-openai) (4.0.3)\n",
      "Requirement already satisfied: pydantic>=1.10 in c:\\users\\ashish\\appdata\\local\\programs\\python\\python39\\lib\\site-packages (from llamaindex-py-client<0.2.0,>=0.1.18->llama-index-core<0.11.0,>=0.10.24->llama-index-llms-openai) (2.6.3)\n",
      "Requirement already satisfied: certifi in c:\\users\\ashish\\appdata\\local\\programs\\python\\python39\\lib\\site-packages (from httpx->llama-index-core<0.11.0,>=0.10.24->llama-index-llms-openai) (2023.5.7)\n",
      "Requirement already satisfied: httpcore<0.18.0,>=0.15.0 in c:\\users\\ashish\\appdata\\local\\programs\\python\\python39\\lib\\site-packages (from httpx->llama-index-core<0.11.0,>=0.10.24->llama-index-llms-openai) (0.17.2)\n",
      "Requirement already satisfied: idna in c:\\users\\ashish\\appdata\\local\\programs\\python\\python39\\lib\\site-packages (from httpx->llama-index-core<0.11.0,>=0.10.24->llama-index-llms-openai) (3.4)\n",
      "Requirement already satisfied: sniffio in c:\\users\\ashish\\appdata\\local\\programs\\python\\python39\\lib\\site-packages (from httpx->llama-index-core<0.11.0,>=0.10.24->llama-index-llms-openai) (1.3.0)\n",
      "Requirement already satisfied: click in c:\\users\\ashish\\appdata\\local\\programs\\python\\python39\\lib\\site-packages (from nltk<4.0.0,>=3.8.1->llama-index-core<0.11.0,>=0.10.24->llama-index-llms-openai) (8.1.7)\n",
      "Requirement already satisfied: joblib in c:\\users\\ashish\\appdata\\local\\programs\\python\\python39\\lib\\site-packages (from nltk<4.0.0,>=3.8.1->llama-index-core<0.11.0,>=0.10.24->llama-index-llms-openai) (1.3.2)\n",
      "Requirement already satisfied: regex>=2021.8.3 in c:\\users\\ashish\\appdata\\local\\programs\\python\\python39\\lib\\site-packages (from nltk<4.0.0,>=3.8.1->llama-index-core<0.11.0,>=0.10.24->llama-index-llms-openai) (2023.10.3)\n",
      "Requirement already satisfied: anyio<5,>=3.5.0 in c:\\users\\ashish\\appdata\\local\\programs\\python\\python39\\lib\\site-packages (from openai>=1.1.0->llama-index-core<0.11.0,>=0.10.24->llama-index-llms-openai) (3.7.0)\n",
      "Requirement already satisfied: distro<2,>=1.7.0 in c:\\users\\ashish\\appdata\\local\\programs\\python\\python39\\lib\\site-packages (from openai>=1.1.0->llama-index-core<0.11.0,>=0.10.24->llama-index-llms-openai) (1.8.0)\n",
      "Requirement already satisfied: charset-normalizer<4,>=2 in c:\\users\\ashish\\appdata\\local\\programs\\python\\python39\\lib\\site-packages (from requests>=2.31.0->llama-index-core<0.11.0,>=0.10.24->llama-index-llms-openai) (3.1.0)\n",
      "Requirement already satisfied: urllib3<3,>=1.21.1 in c:\\users\\ashish\\appdata\\local\\programs\\python\\python39\\lib\\site-packages (from requests>=2.31.0->llama-index-core<0.11.0,>=0.10.24->llama-index-llms-openai) (1.26.16)\n",
      "Requirement already satisfied: greenlet!=0.4.17 in c:\\users\\ashish\\appdata\\local\\programs\\python\\python39\\lib\\site-packages (from SQLAlchemy>=1.4.49->SQLAlchemy[asyncio]>=1.4.49->llama-index-core<0.11.0,>=0.10.24->llama-index-llms-openai) (3.0.3)\n",
      "Requirement already satisfied: colorama in c:\\users\\ashish\\appdata\\roaming\\python\\python39\\site-packages (from tqdm<5.0.0,>=4.66.1->llama-index-core<0.11.0,>=0.10.24->llama-index-llms-openai) (0.4.4)\n",
      "Requirement already satisfied: mypy-extensions>=0.3.0 in c:\\users\\ashish\\appdata\\local\\programs\\python\\python39\\lib\\site-packages (from typing-inspect>=0.8.0->llama-index-core<0.11.0,>=0.10.24->llama-index-llms-openai) (1.0.0)\n",
      "Requirement already satisfied: marshmallow<4.0.0,>=3.18.0 in c:\\users\\ashish\\appdata\\local\\programs\\python\\python39\\lib\\site-packages (from dataclasses-json->llama-index-core<0.11.0,>=0.10.24->llama-index-llms-openai) (3.21.1)\n",
      "Requirement already satisfied: python-dateutil>=2.8.2 in c:\\users\\ashish\\appdata\\local\\programs\\python\\python39\\lib\\site-packages (from pandas->llama-index-core<0.11.0,>=0.10.24->llama-index-llms-openai) (2.8.2)\n",
      "Requirement already satisfied: pytz>=2020.1 in c:\\users\\ashish\\appdata\\local\\programs\\python\\python39\\lib\\site-packages (from pandas->llama-index-core<0.11.0,>=0.10.24->llama-index-llms-openai) (2024.1)\n",
      "Requirement already satisfied: tzdata>=2022.7 in c:\\users\\ashish\\appdata\\local\\programs\\python\\python39\\lib\\site-packages (from pandas->llama-index-core<0.11.0,>=0.10.24->llama-index-llms-openai) (2024.1)\n",
      "Requirement already satisfied: exceptiongroup in c:\\users\\ashish\\appdata\\local\\programs\\python\\python39\\lib\\site-packages (from anyio<5,>=3.5.0->openai>=1.1.0->llama-index-core<0.11.0,>=0.10.24->llama-index-llms-openai) (1.1.1)\n",
      "Requirement already satisfied: h11<0.15,>=0.13 in c:\\users\\ashish\\appdata\\local\\programs\\python\\python39\\lib\\site-packages (from httpcore<0.18.0,>=0.15.0->httpx->llama-index-core<0.11.0,>=0.10.24->llama-index-llms-openai) (0.14.0)\n",
      "Requirement already satisfied: packaging>=17.0 in c:\\users\\ashish\\appdata\\local\\programs\\python\\python39\\lib\\site-packages (from marshmallow<4.0.0,>=3.18.0->dataclasses-json->llama-index-core<0.11.0,>=0.10.24->llama-index-llms-openai) (23.2)\n",
      "Requirement already satisfied: annotated-types>=0.4.0 in c:\\users\\ashish\\appdata\\local\\programs\\python\\python39\\lib\\site-packages (from pydantic>=1.10->llamaindex-py-client<0.2.0,>=0.1.18->llama-index-core<0.11.0,>=0.10.24->llama-index-llms-openai) (0.6.0)\n",
      "Requirement already satisfied: pydantic-core==2.16.3 in c:\\users\\ashish\\appdata\\local\\programs\\python\\python39\\lib\\site-packages (from pydantic>=1.10->llamaindex-py-client<0.2.0,>=0.1.18->llama-index-core<0.11.0,>=0.10.24->llama-index-llms-openai) (2.16.3)\n",
      "Requirement already satisfied: six>=1.5 in c:\\users\\ashish\\appdata\\roaming\\python\\python39\\site-packages (from python-dateutil>=2.8.2->pandas->llama-index-core<0.11.0,>=0.10.24->llama-index-llms-openai) (1.15.0)\n",
      "Note: you may need to restart the kernel to use updated packages.\n"
     ]
    },
    {
     "name": "stderr",
     "output_type": "stream",
     "text": [
      "\n",
      "[notice] A new release of pip is available: 23.3.1 -> 24.0\n",
      "[notice] To update, run: python.exe -m pip install --upgrade pip\n"
     ]
    }
   ],
   "source": [
    "%pip install llama-index-llms-openai"
   ]
  },
  {
   "cell_type": "code",
   "execution_count": 2,
   "metadata": {},
   "outputs": [
    {
     "name": "stdout",
     "output_type": "stream",
     "text": [
      "Requirement already satisfied: llama-index in c:\\users\\ashish\\miniconda3\\lib\\site-packages (0.10.43)\n",
      "Requirement already satisfied: llama-index-agent-openai<0.3.0,>=0.1.4 in c:\\users\\ashish\\miniconda3\\lib\\site-packages (from llama-index) (0.2.7)\n",
      "Requirement already satisfied: llama-index-cli<0.2.0,>=0.1.2 in c:\\users\\ashish\\miniconda3\\lib\\site-packages (from llama-index) (0.1.12)\n",
      "Requirement already satisfied: llama-index-core==0.10.43 in c:\\users\\ashish\\miniconda3\\lib\\site-packages (from llama-index) (0.10.43)\n",
      "Requirement already satisfied: llama-index-embeddings-openai<0.2.0,>=0.1.5 in c:\\users\\ashish\\miniconda3\\lib\\site-packages (from llama-index) (0.1.10)\n",
      "Requirement already satisfied: llama-index-indices-managed-llama-cloud<0.2.0,>=0.1.2 in c:\\users\\ashish\\miniconda3\\lib\\site-packages (from llama-index) (0.1.6)\n",
      "Requirement already satisfied: llama-index-legacy<0.10.0,>=0.9.48 in c:\\users\\ashish\\miniconda3\\lib\\site-packages (from llama-index) (0.9.48)\n",
      "Requirement already satisfied: llama-index-llms-openai<0.2.0,>=0.1.13 in c:\\users\\ashish\\miniconda3\\lib\\site-packages (from llama-index) (0.1.22)\n",
      "Requirement already satisfied: llama-index-multi-modal-llms-openai<0.2.0,>=0.1.3 in c:\\users\\ashish\\miniconda3\\lib\\site-packages (from llama-index) (0.1.6)\n",
      "Requirement already satisfied: llama-index-program-openai<0.2.0,>=0.1.3 in c:\\users\\ashish\\miniconda3\\lib\\site-packages (from llama-index) (0.1.6)\n",
      "Requirement already satisfied: llama-index-question-gen-openai<0.2.0,>=0.1.2 in c:\\users\\ashish\\miniconda3\\lib\\site-packages (from llama-index) (0.1.3)\n",
      "Requirement already satisfied: llama-index-readers-file<0.2.0,>=0.1.4 in c:\\users\\ashish\\miniconda3\\lib\\site-packages (from llama-index) (0.1.23)\n",
      "Requirement already satisfied: llama-index-readers-llama-parse<0.2.0,>=0.1.2 in c:\\users\\ashish\\miniconda3\\lib\\site-packages (from llama-index) (0.1.4)\n",
      "Requirement already satisfied: PyYAML>=6.0.1 in c:\\users\\ashish\\miniconda3\\lib\\site-packages (from llama-index-core==0.10.43->llama-index) (6.0.1)\n",
      "Requirement already satisfied: SQLAlchemy>=1.4.49 in c:\\users\\ashish\\miniconda3\\lib\\site-packages (from SQLAlchemy[asyncio]>=1.4.49->llama-index-core==0.10.43->llama-index) (2.0.28)\n",
      "Requirement already satisfied: aiohttp<4.0.0,>=3.8.6 in c:\\users\\ashish\\miniconda3\\lib\\site-packages (from llama-index-core==0.10.43->llama-index) (3.9.3)\n",
      "Requirement already satisfied: dataclasses-json in c:\\users\\ashish\\miniconda3\\lib\\site-packages (from llama-index-core==0.10.43->llama-index) (0.6.4)\n",
      "Requirement already satisfied: deprecated>=1.2.9.3 in c:\\users\\ashish\\miniconda3\\lib\\site-packages (from llama-index-core==0.10.43->llama-index) (1.2.14)\n",
      "Requirement already satisfied: dirtyjson<2.0.0,>=1.0.8 in c:\\users\\ashish\\miniconda3\\lib\\site-packages (from llama-index-core==0.10.43->llama-index) (1.0.8)\n",
      "Requirement already satisfied: fsspec>=2023.5.0 in c:\\users\\ashish\\miniconda3\\lib\\site-packages (from llama-index-core==0.10.43->llama-index) (2024.2.0)\n",
      "Requirement already satisfied: httpx in c:\\users\\ashish\\miniconda3\\lib\\site-packages (from llama-index-core==0.10.43->llama-index) (0.27.0)\n",
      "Requirement already satisfied: llamaindex-py-client<0.2.0,>=0.1.18 in c:\\users\\ashish\\miniconda3\\lib\\site-packages (from llama-index-core==0.10.43->llama-index) (0.1.19)\n",
      "Requirement already satisfied: nest-asyncio<2.0.0,>=1.5.8 in c:\\users\\ashish\\miniconda3\\lib\\site-packages (from llama-index-core==0.10.43->llama-index) (1.6.0)\n",
      "Requirement already satisfied: networkx>=3.0 in c:\\users\\ashish\\miniconda3\\lib\\site-packages (from llama-index-core==0.10.43->llama-index) (3.3)\n",
      "Requirement already satisfied: nltk<4.0.0,>=3.8.1 in c:\\users\\ashish\\miniconda3\\lib\\site-packages (from llama-index-core==0.10.43->llama-index) (3.8.1)\n",
      "Requirement already satisfied: numpy in c:\\users\\ashish\\miniconda3\\lib\\site-packages (from llama-index-core==0.10.43->llama-index) (1.26.4)\n",
      "Requirement already satisfied: openai>=1.1.0 in c:\\users\\ashish\\miniconda3\\lib\\site-packages (from llama-index-core==0.10.43->llama-index) (1.30.5)\n",
      "Requirement already satisfied: pandas in c:\\users\\ashish\\miniconda3\\lib\\site-packages (from llama-index-core==0.10.43->llama-index) (2.2.1)\n",
      "Requirement already satisfied: pillow>=9.0.0 in c:\\users\\ashish\\miniconda3\\lib\\site-packages (from llama-index-core==0.10.43->llama-index) (10.2.0)\n",
      "Requirement already satisfied: requests>=2.31.0 in c:\\users\\ashish\\miniconda3\\lib\\site-packages (from llama-index-core==0.10.43->llama-index) (2.31.0)\n",
      "Requirement already satisfied: tenacity<9.0.0,>=8.2.0 in c:\\users\\ashish\\miniconda3\\lib\\site-packages (from llama-index-core==0.10.43->llama-index) (8.2.3)\n",
      "Requirement already satisfied: tiktoken>=0.3.3 in c:\\users\\ashish\\miniconda3\\lib\\site-packages (from llama-index-core==0.10.43->llama-index) (0.7.0)\n",
      "Requirement already satisfied: tqdm<5.0.0,>=4.66.1 in c:\\users\\ashish\\miniconda3\\lib\\site-packages (from llama-index-core==0.10.43->llama-index) (4.66.2)\n",
      "Requirement already satisfied: typing-extensions>=4.5.0 in c:\\users\\ashish\\miniconda3\\lib\\site-packages (from llama-index-core==0.10.43->llama-index) (4.10.0)\n",
      "Requirement already satisfied: typing-inspect>=0.8.0 in c:\\users\\ashish\\miniconda3\\lib\\site-packages (from llama-index-core==0.10.43->llama-index) (0.9.0)\n",
      "Requirement already satisfied: wrapt in c:\\users\\ashish\\miniconda3\\lib\\site-packages (from llama-index-core==0.10.43->llama-index) (1.16.0)\n",
      "Requirement already satisfied: beautifulsoup4<5.0.0,>=4.12.3 in c:\\users\\ashish\\miniconda3\\lib\\site-packages (from llama-index-readers-file<0.2.0,>=0.1.4->llama-index) (4.12.3)\n",
      "Requirement already satisfied: pypdf<5.0.0,>=4.0.1 in c:\\users\\ashish\\miniconda3\\lib\\site-packages (from llama-index-readers-file<0.2.0,>=0.1.4->llama-index) (4.2.0)\n",
      "Requirement already satisfied: striprtf<0.0.27,>=0.0.26 in c:\\users\\ashish\\miniconda3\\lib\\site-packages (from llama-index-readers-file<0.2.0,>=0.1.4->llama-index) (0.0.26)\n",
      "Requirement already satisfied: llama-parse<0.5.0,>=0.4.0 in c:\\users\\ashish\\miniconda3\\lib\\site-packages (from llama-index-readers-llama-parse<0.2.0,>=0.1.2->llama-index) (0.4.4)\n",
      "Requirement already satisfied: aiosignal>=1.1.2 in c:\\users\\ashish\\miniconda3\\lib\\site-packages (from aiohttp<4.0.0,>=3.8.6->llama-index-core==0.10.43->llama-index) (1.3.1)\n",
      "Requirement already satisfied: attrs>=17.3.0 in c:\\users\\ashish\\miniconda3\\lib\\site-packages (from aiohttp<4.0.0,>=3.8.6->llama-index-core==0.10.43->llama-index) (23.2.0)\n",
      "Requirement already satisfied: frozenlist>=1.1.1 in c:\\users\\ashish\\miniconda3\\lib\\site-packages (from aiohttp<4.0.0,>=3.8.6->llama-index-core==0.10.43->llama-index) (1.4.1)\n",
      "Requirement already satisfied: multidict<7.0,>=4.5 in c:\\users\\ashish\\miniconda3\\lib\\site-packages (from aiohttp<4.0.0,>=3.8.6->llama-index-core==0.10.43->llama-index) (6.0.5)\n",
      "Requirement already satisfied: yarl<2.0,>=1.0 in c:\\users\\ashish\\miniconda3\\lib\\site-packages (from aiohttp<4.0.0,>=3.8.6->llama-index-core==0.10.43->llama-index) (1.9.4)\n",
      "Requirement already satisfied: soupsieve>1.2 in c:\\users\\ashish\\miniconda3\\lib\\site-packages (from beautifulsoup4<5.0.0,>=4.12.3->llama-index-readers-file<0.2.0,>=0.1.4->llama-index) (2.5)\n",
      "Requirement already satisfied: pydantic>=1.10 in c:\\users\\ashish\\miniconda3\\lib\\site-packages (from llamaindex-py-client<0.2.0,>=0.1.18->llama-index-core==0.10.43->llama-index) (2.6.3)\n",
      "Requirement already satisfied: anyio in c:\\users\\ashish\\miniconda3\\lib\\site-packages (from httpx->llama-index-core==0.10.43->llama-index) (4.3.0)\n",
      "Requirement already satisfied: certifi in c:\\users\\ashish\\miniconda3\\lib\\site-packages (from httpx->llama-index-core==0.10.43->llama-index) (2023.11.17)\n",
      "Requirement already satisfied: httpcore==1.* in c:\\users\\ashish\\miniconda3\\lib\\site-packages (from httpx->llama-index-core==0.10.43->llama-index) (1.0.5)\n",
      "Requirement already satisfied: idna in c:\\users\\ashish\\miniconda3\\lib\\site-packages (from httpx->llama-index-core==0.10.43->llama-index) (3.4)\n",
      "Requirement already satisfied: sniffio in c:\\users\\ashish\\miniconda3\\lib\\site-packages (from httpx->llama-index-core==0.10.43->llama-index) (1.3.1)\n",
      "Requirement already satisfied: h11<0.15,>=0.13 in c:\\users\\ashish\\miniconda3\\lib\\site-packages (from httpcore==1.*->httpx->llama-index-core==0.10.43->llama-index) (0.14.0)\n",
      "Requirement already satisfied: click in c:\\users\\ashish\\miniconda3\\lib\\site-packages (from nltk<4.0.0,>=3.8.1->llama-index-core==0.10.43->llama-index) (8.1.7)\n",
      "Requirement already satisfied: joblib in c:\\users\\ashish\\miniconda3\\lib\\site-packages (from nltk<4.0.0,>=3.8.1->llama-index-core==0.10.43->llama-index) (1.4.2)\n",
      "Requirement already satisfied: regex>=2021.8.3 in c:\\users\\ashish\\miniconda3\\lib\\site-packages (from nltk<4.0.0,>=3.8.1->llama-index-core==0.10.43->llama-index) (2024.5.15)\n",
      "Requirement already satisfied: distro<2,>=1.7.0 in c:\\users\\ashish\\miniconda3\\lib\\site-packages (from openai>=1.1.0->llama-index-core==0.10.43->llama-index) (1.8.0)\n",
      "Requirement already satisfied: charset-normalizer<4,>=2 in c:\\users\\ashish\\miniconda3\\lib\\site-packages (from requests>=2.31.0->llama-index-core==0.10.43->llama-index) (2.0.4)\n",
      "Requirement already satisfied: urllib3<3,>=1.21.1 in c:\\users\\ashish\\miniconda3\\lib\\site-packages (from requests>=2.31.0->llama-index-core==0.10.43->llama-index) (1.26.18)\n",
      "Requirement already satisfied: greenlet!=0.4.17 in c:\\users\\ashish\\miniconda3\\lib\\site-packages (from SQLAlchemy>=1.4.49->SQLAlchemy[asyncio]>=1.4.49->llama-index-core==0.10.43->llama-index) (3.0.3)\n",
      "Requirement already satisfied: colorama in c:\\users\\ashish\\miniconda3\\lib\\site-packages (from tqdm<5.0.0,>=4.66.1->llama-index-core==0.10.43->llama-index) (0.4.6)\n",
      "Requirement already satisfied: mypy-extensions>=0.3.0 in c:\\users\\ashish\\miniconda3\\lib\\site-packages (from typing-inspect>=0.8.0->llama-index-core==0.10.43->llama-index) (1.0.0)\n",
      "Requirement already satisfied: marshmallow<4.0.0,>=3.18.0 in c:\\users\\ashish\\miniconda3\\lib\\site-packages (from dataclasses-json->llama-index-core==0.10.43->llama-index) (3.21.1)\n",
      "Requirement already satisfied: python-dateutil>=2.8.2 in c:\\users\\ashish\\miniconda3\\lib\\site-packages (from pandas->llama-index-core==0.10.43->llama-index) (2.9.0.post0)\n",
      "Requirement already satisfied: pytz>=2020.1 in c:\\users\\ashish\\miniconda3\\lib\\site-packages (from pandas->llama-index-core==0.10.43->llama-index) (2024.1)\n",
      "Requirement already satisfied: tzdata>=2022.7 in c:\\users\\ashish\\miniconda3\\lib\\site-packages (from pandas->llama-index-core==0.10.43->llama-index) (2024.1)\n",
      "Requirement already satisfied: packaging>=17.0 in c:\\users\\ashish\\miniconda3\\lib\\site-packages (from marshmallow<4.0.0,>=3.18.0->dataclasses-json->llama-index-core==0.10.43->llama-index) (23.2)\n",
      "Requirement already satisfied: annotated-types>=0.4.0 in c:\\users\\ashish\\miniconda3\\lib\\site-packages (from pydantic>=1.10->llamaindex-py-client<0.2.0,>=0.1.18->llama-index-core==0.10.43->llama-index) (0.6.0)\n",
      "Requirement already satisfied: pydantic-core==2.16.3 in c:\\users\\ashish\\miniconda3\\lib\\site-packages (from pydantic>=1.10->llamaindex-py-client<0.2.0,>=0.1.18->llama-index-core==0.10.43->llama-index) (2.16.3)\n",
      "Requirement already satisfied: six>=1.5 in c:\\users\\ashish\\miniconda3\\lib\\site-packages (from python-dateutil>=2.8.2->pandas->llama-index-core==0.10.43->llama-index) (1.16.0)\n"
     ]
    }
   ],
   "source": [
    "!pip install llama-index"
   ]
  },
  {
   "cell_type": "code",
   "execution_count": 3,
   "metadata": {},
   "outputs": [],
   "source": [
    "import openai"
   ]
  },
  {
   "cell_type": "code",
   "execution_count": 4,
   "metadata": {},
   "outputs": [],
   "source": [
    "openai.api_key=\"sk-\" ## add your openai-api key"
   ]
  },
  {
   "cell_type": "code",
   "execution_count": 5,
   "metadata": {},
   "outputs": [],
   "source": [
    "from IPython.display import Markdown, display\n",
    "import pandas as pd"
   ]
  },
  {
   "cell_type": "code",
   "execution_count": 6,
   "metadata": {},
   "outputs": [],
   "source": [
    "df=pd.read_csv(\"./dataset.csv\")  ## add you respective file"
   ]
  },
  {
   "cell_type": "code",
   "execution_count": null,
   "metadata": {},
   "outputs": [],
   "source": [
    "\"\"\"\n",
    "If you have 2 or more sheet in the csv files\n",
    "###\n",
    "sheets = pd.read_csv(file_path, header=None, names=None, sheet_name=None)\n",
    "\n",
    "# Create SQL Database (SQLite in this example)\n",
    "engine = create_engine('sqlite:///:memory:')\n",
    "\n",
    "# Iterate through each sheet and write to the database\n",
    "for sheet_name, df in sheets.items():\n",
    "    # Perform any necessary data cleaning or preprocessing here\n",
    "    # For example, you might want to rename columns or remove rows with missing values\n",
    "    \n",
    "    # Convert column data types based on the specified schema\n",
    "    for column, dtype in column_types.items():\n",
    "        if column in df.columns:\n",
    "            df[column] = df[column].astype(dtype)\n",
    "    \n",
    "    # Write each sheet to a separate table in the SQL database\n",
    "    df.to_sql(sheet_name, engine, index=False, if_exists='replace')\n",
    "###\n",
    "\n",
    "\"\"\""
   ]
  },
  {
   "cell_type": "code",
   "execution_count": 7,
   "metadata": {},
   "outputs": [
    {
     "data": {
      "text/html": [
       "<div>\n",
       "<style scoped>\n",
       "    .dataframe tbody tr th:only-of-type {\n",
       "        vertical-align: middle;\n",
       "    }\n",
       "\n",
       "    .dataframe tbody tr th {\n",
       "        vertical-align: top;\n",
       "    }\n",
       "\n",
       "    .dataframe thead th {\n",
       "        text-align: right;\n",
       "    }\n",
       "</style>\n",
       "<table border=\"1\" class=\"dataframe\">\n",
       "  <thead>\n",
       "    <tr style=\"text-align: right;\">\n",
       "      <th></th>\n",
       "      <th>ID</th>\n",
       "      <th>Gender</th>\n",
       "      <th>Own_car</th>\n",
       "      <th>Own_property</th>\n",
       "      <th>Work_phone</th>\n",
       "      <th>Phone</th>\n",
       "      <th>Email</th>\n",
       "      <th>Unemployed</th>\n",
       "      <th>Num_children</th>\n",
       "      <th>Num_family</th>\n",
       "      <th>Account_length</th>\n",
       "      <th>Total_income</th>\n",
       "      <th>Age</th>\n",
       "      <th>Years_employed</th>\n",
       "      <th>Income_type</th>\n",
       "      <th>Education_type</th>\n",
       "      <th>Family_status</th>\n",
       "      <th>Housing_type</th>\n",
       "      <th>Occupation_type</th>\n",
       "      <th>Target</th>\n",
       "    </tr>\n",
       "  </thead>\n",
       "  <tbody>\n",
       "    <tr>\n",
       "      <th>0</th>\n",
       "      <td>5008804</td>\n",
       "      <td>1</td>\n",
       "      <td>1</td>\n",
       "      <td>1</td>\n",
       "      <td>1</td>\n",
       "      <td>0</td>\n",
       "      <td>0</td>\n",
       "      <td>0</td>\n",
       "      <td>0</td>\n",
       "      <td>2</td>\n",
       "      <td>15</td>\n",
       "      <td>427500.0</td>\n",
       "      <td>32.868574</td>\n",
       "      <td>12.435574</td>\n",
       "      <td>Working</td>\n",
       "      <td>Higher education</td>\n",
       "      <td>Civil marriage</td>\n",
       "      <td>Rented apartment</td>\n",
       "      <td>Other</td>\n",
       "      <td>1</td>\n",
       "    </tr>\n",
       "    <tr>\n",
       "      <th>1</th>\n",
       "      <td>5008806</td>\n",
       "      <td>1</td>\n",
       "      <td>1</td>\n",
       "      <td>1</td>\n",
       "      <td>0</td>\n",
       "      <td>0</td>\n",
       "      <td>0</td>\n",
       "      <td>0</td>\n",
       "      <td>0</td>\n",
       "      <td>2</td>\n",
       "      <td>29</td>\n",
       "      <td>112500.0</td>\n",
       "      <td>58.793815</td>\n",
       "      <td>3.104787</td>\n",
       "      <td>Working</td>\n",
       "      <td>Secondary / secondary special</td>\n",
       "      <td>Married</td>\n",
       "      <td>House / apartment</td>\n",
       "      <td>Security staff</td>\n",
       "      <td>0</td>\n",
       "    </tr>\n",
       "    <tr>\n",
       "      <th>2</th>\n",
       "      <td>5008808</td>\n",
       "      <td>0</td>\n",
       "      <td>0</td>\n",
       "      <td>1</td>\n",
       "      <td>0</td>\n",
       "      <td>1</td>\n",
       "      <td>1</td>\n",
       "      <td>0</td>\n",
       "      <td>0</td>\n",
       "      <td>1</td>\n",
       "      <td>4</td>\n",
       "      <td>270000.0</td>\n",
       "      <td>52.321403</td>\n",
       "      <td>8.353354</td>\n",
       "      <td>Commercial associate</td>\n",
       "      <td>Secondary / secondary special</td>\n",
       "      <td>Single / not married</td>\n",
       "      <td>House / apartment</td>\n",
       "      <td>Sales staff</td>\n",
       "      <td>0</td>\n",
       "    </tr>\n",
       "    <tr>\n",
       "      <th>3</th>\n",
       "      <td>5008812</td>\n",
       "      <td>0</td>\n",
       "      <td>0</td>\n",
       "      <td>1</td>\n",
       "      <td>0</td>\n",
       "      <td>0</td>\n",
       "      <td>0</td>\n",
       "      <td>1</td>\n",
       "      <td>0</td>\n",
       "      <td>1</td>\n",
       "      <td>20</td>\n",
       "      <td>283500.0</td>\n",
       "      <td>61.504343</td>\n",
       "      <td>0.000000</td>\n",
       "      <td>Pensioner</td>\n",
       "      <td>Higher education</td>\n",
       "      <td>Separated</td>\n",
       "      <td>House / apartment</td>\n",
       "      <td>Other</td>\n",
       "      <td>0</td>\n",
       "    </tr>\n",
       "    <tr>\n",
       "      <th>4</th>\n",
       "      <td>5008815</td>\n",
       "      <td>1</td>\n",
       "      <td>1</td>\n",
       "      <td>1</td>\n",
       "      <td>1</td>\n",
       "      <td>1</td>\n",
       "      <td>1</td>\n",
       "      <td>0</td>\n",
       "      <td>0</td>\n",
       "      <td>2</td>\n",
       "      <td>5</td>\n",
       "      <td>270000.0</td>\n",
       "      <td>46.193967</td>\n",
       "      <td>2.105450</td>\n",
       "      <td>Working</td>\n",
       "      <td>Higher education</td>\n",
       "      <td>Married</td>\n",
       "      <td>House / apartment</td>\n",
       "      <td>Accountants</td>\n",
       "      <td>0</td>\n",
       "    </tr>\n",
       "  </tbody>\n",
       "</table>\n",
       "</div>"
      ],
      "text/plain": [
       "        ID  Gender  Own_car  Own_property  Work_phone  Phone  Email  \\\n",
       "0  5008804       1        1             1           1      0      0   \n",
       "1  5008806       1        1             1           0      0      0   \n",
       "2  5008808       0        0             1           0      1      1   \n",
       "3  5008812       0        0             1           0      0      0   \n",
       "4  5008815       1        1             1           1      1      1   \n",
       "\n",
       "   Unemployed  Num_children  Num_family  Account_length  Total_income  \\\n",
       "0           0             0           2              15      427500.0   \n",
       "1           0             0           2              29      112500.0   \n",
       "2           0             0           1               4      270000.0   \n",
       "3           1             0           1              20      283500.0   \n",
       "4           0             0           2               5      270000.0   \n",
       "\n",
       "         Age  Years_employed           Income_type  \\\n",
       "0  32.868574       12.435574               Working   \n",
       "1  58.793815        3.104787               Working   \n",
       "2  52.321403        8.353354  Commercial associate   \n",
       "3  61.504343        0.000000             Pensioner   \n",
       "4  46.193967        2.105450               Working   \n",
       "\n",
       "                  Education_type         Family_status       Housing_type  \\\n",
       "0               Higher education        Civil marriage   Rented apartment   \n",
       "1  Secondary / secondary special               Married  House / apartment   \n",
       "2  Secondary / secondary special  Single / not married  House / apartment   \n",
       "3               Higher education             Separated  House / apartment   \n",
       "4               Higher education               Married  House / apartment   \n",
       "\n",
       "  Occupation_type  Target  \n",
       "0           Other       1  \n",
       "1  Security staff       0  \n",
       "2     Sales staff       0  \n",
       "3           Other       0  \n",
       "4     Accountants       0  "
      ]
     },
     "execution_count": 7,
     "metadata": {},
     "output_type": "execute_result"
    }
   ],
   "source": [
    "df.head()"
   ]
  },
  {
   "cell_type": "code",
   "execution_count": 8,
   "metadata": {},
   "outputs": [],
   "source": [
    "from sqlalchemy import (\n",
    "    create_engine,\n",
    "    MetaData,\n",
    "    Table,\n",
    "    Column,\n",
    "    String,\n",
    "    Integer,\n",
    "    select,\n",
    "    Float,\n",
    ")"
   ]
  },
  {
   "cell_type": "code",
   "execution_count": 9,
   "metadata": {},
   "outputs": [
    {
     "name": "stdout",
     "output_type": "stream",
     "text": [
      "2024-06-03 22:26:34,019 INFO sqlalchemy.engine.Engine BEGIN (implicit)\n",
      "2024-06-03 22:26:34,025 INFO sqlalchemy.engine.Engine PRAGMA main.table_info(\"housing\")\n",
      "2024-06-03 22:26:34,027 INFO sqlalchemy.engine.Engine [raw sql] ()\n",
      "2024-06-03 22:26:34,029 INFO sqlalchemy.engine.Engine PRAGMA temp.table_info(\"housing\")\n",
      "2024-06-03 22:26:34,030 INFO sqlalchemy.engine.Engine [raw sql] ()\n",
      "2024-06-03 22:26:34,034 INFO sqlalchemy.engine.Engine \n",
      "CREATE TABLE housing (\n",
      "\t\"ID\" INTEGER, \n",
      "\t\"Gender\" INTEGER, \n",
      "\t\"Own_car\" INTEGER, \n",
      "\t\"Own_property\" INTEGER, \n",
      "\t\"Work_phone\" INTEGER, \n",
      "\t\"Phone\" INTEGER, \n",
      "\t\"Email\" INTEGER, \n",
      "\t\"Unemployed\" INTEGER, \n",
      "\t\"Num_children\" INTEGER, \n",
      "\t\"Num_family\" INTEGER, \n",
      "\t\"Account_length\" INTEGER, \n",
      "\t\"Total_income\" FLOAT, \n",
      "\t\"Age\" FLOAT, \n",
      "\t\"Years_employed\" FLOAT, \n",
      "\t\"Income_type\" VARCHAR, \n",
      "\t\"Education_type\" VARCHAR, \n",
      "\t\"Family_status\" VARCHAR, \n",
      "\t\"Housing_type\" VARCHAR, \n",
      "\t\"Occupation_type\" VARCHAR, \n",
      "\t\"Target\" INTEGER\n",
      ")\n",
      "\n",
      "\n",
      "2024-06-03 22:26:34,036 INFO sqlalchemy.engine.Engine [no key 0.00174s] ()\n",
      "2024-06-03 22:26:34,294 INFO sqlalchemy.engine.Engine INSERT INTO housing (\"ID\", \"Gender\", \"Own_car\", \"Own_property\", \"Work_phone\", \"Phone\", \"Email\", \"Unemployed\", \"Num_children\", \"Num_family\", \"Account_length\", \"Total_income\", \"Age\", \"Years_employed\", \"Income_type\", \"Education_type\", \"Family_status\", \"Housing_type\", \"Occupation_type\", \"Target\") VALUES (?, ?, ?, ?, ?, ?, ?, ?, ?, ?, ?, ?, ?, ?, ?, ?, ?, ?, ?, ?)\n",
      "2024-06-03 22:26:34,297 INFO sqlalchemy.engine.Engine [generated in 0.20352s] [(5008804, 1, 1, 1, 1, 0, 0, 0, 0, 2, 15, 427500.0, 32.86857361889703, 12.4355736257418, 'Working', 'Higher education', 'Civil marriage', 'Rented apartment', 'Other', 1), (5008806, 1, 1, 1, 0, 0, 0, 0, 0, 2, 29, 112500.0, 58.79381506807121, 3.104786545924968, 'Working', 'Secondary / secondary special', 'Married', 'House / apartment', 'Security staff', 0), (5008808, 0, 0, 1, 0, 1, 1, 0, 0, 1, 4, 270000.0, 52.32140290355038, 8.353354278321937, 'Commercial associate', 'Secondary / secondary special', 'Single / not married', 'House / apartment', 'Sales staff', 0), (5008812, 0, 0, 1, 0, 0, 0, 1, 0, 1, 20, 283500.0, 61.50434300498984, 0.0, 'Pensioner', 'Higher education', 'Separated', 'House / apartment', 'Other', 0), (5008815, 1, 1, 1, 1, 1, 1, 0, 0, 2, 5, 270000.0, 46.1939670219101, 2.1054504883741623, 'Working', 'Higher education', 'Married', 'House / apartment', 'Accountants', 0), (5008819, 1, 1, 1, 0, 0, 0, 0, 0, 2, 17, 135000.0, 48.67451077024169, 3.269060966344278, 'Commercial associate', 'Secondary / secondary special', 'Married', 'House / apartment', 'Laborers', 0), (5008825, 0, 1, 0, 0, 0, 0, 0, 0, 2, 25, 130500.0, 29.210729857560388, 3.019911428708324, 'Working', 'Incomplete higher', 'Married', 'House / apartment', 'Accountants', 1), (5008830, 0, 0, 1, 0, 1, 0, 0, 0, 2, 31, 157500.0, 27.46394518710172, 4.021985393266117, 'Working', 'Secondary / secondary special', 'Married', 'House / apartment', 'Laborers', 1)  ... displaying 10 of 9709 total bound parameter sets ...  (5149838, 0, 0, 1, 0, 1, 1, 0, 0, 2, 32, 157500.0, 33.91445409556664, 3.6277267842597727, 'Pensioner', 'Higher education', 'Married', 'House / apartment', 'Medicine staff', 1), (5150337, 1, 0, 1, 0, 0, 0, 0, 0, 1, 13, 112500.0, 25.15588958021041, 3.2663230593372896, 'Working', 'Secondary / secondary special', 'Single / not married', 'Rented apartment', 'Laborers', 1)]\n",
      "2024-06-03 22:26:34,329 INFO sqlalchemy.engine.Engine COMMIT\n",
      "Data written to SQLite database successfully.\n",
      "<class 'pandas.core.frame.DataFrame'>\n"
     ]
    }
   ],
   "source": [
    "engine = create_engine('sqlite:///:memory:', echo=True)\n",
    "\n",
    "## Define your Schema here\n",
    "# Define column names and types for SQLAlchemy\n",
    "column_types = {\n",
    "    'ID': Integer,\n",
    "    'Gender': Integer,  # Assuming 1 for male and 0 for female\n",
    "    'Own_car': Integer,  # Assuming 1 for yes and 0 for no\n",
    "    'Own_property': Integer,  # Assuming 1 for yes and 0 for no\n",
    "    'Work_phone': Integer,  # Assuming 1 for yes and 0 for no\n",
    "    'Phone': Integer,  # Assuming 1 for yes and 0 for no\n",
    "    'Email': Integer,  # Assuming 1 for yes and 0 for no\n",
    "    'Unemployed': Integer,  # Assuming 1 for yes and 0 for no\n",
    "    'Num_children': Integer,\n",
    "    'Num_family': Integer,\n",
    "    'Account_length': Integer,\n",
    "    'Total_income': Float,\n",
    "    'Age': Float,  # Assuming float for age\n",
    "    'Years_employed': Float,\n",
    "    'Income_type': String,  # Adjust the data type based on the actual values\n",
    "    'Education_type': String,  # Adjust the data type based on the actual values\n",
    "    'Family_status': String,  # Adjust the data type based on the actual values\n",
    "    'Housing_type': String,  # Adjust the data type based on the actual values\n",
    "    'Occupation_type': String,  # Adjust the data type based on the actual values\n",
    "    'Target': Integer\n",
    "}\n",
    "\n",
    "# Write DataFrame to SQLite database with specified column types\n",
    "df.to_sql('housing', con=engine, if_exists='replace', index=False, dtype=column_types)\n",
    "\n",
    "# Confirming that the data has been written successfully\n",
    "print(\"Data written to SQLite database successfully.\")\n",
    "print(type(df))"
   ]
  },
  {
   "cell_type": "code",
   "execution_count": 11,
   "metadata": {},
   "outputs": [],
   "source": [
    "from llama_index.core import SQLDatabase"
   ]
  },
  {
   "cell_type": "code",
   "execution_count": 12,
   "metadata": {},
   "outputs": [
    {
     "name": "stdout",
     "output_type": "stream",
     "text": [
      "2024-06-03 22:27:19,391 INFO sqlalchemy.engine.Engine BEGIN (implicit)\n",
      "2024-06-03 22:27:19,392 INFO sqlalchemy.engine.Engine SELECT name FROM sqlite_master WHERE type='table' AND name NOT LIKE 'sqlite~_%' ESCAPE '~' ORDER BY name\n",
      "2024-06-03 22:27:19,392 INFO sqlalchemy.engine.Engine [raw sql] ()\n",
      "2024-06-03 22:27:19,398 INFO sqlalchemy.engine.Engine ROLLBACK\n",
      "2024-06-03 22:27:19,399 INFO sqlalchemy.engine.Engine BEGIN (implicit)\n",
      "2024-06-03 22:27:19,400 INFO sqlalchemy.engine.Engine SELECT name FROM sqlite_master WHERE type='table' AND name NOT LIKE 'sqlite~_%' ESCAPE '~' ORDER BY name\n",
      "2024-06-03 22:27:19,401 INFO sqlalchemy.engine.Engine [raw sql] ()\n",
      "2024-06-03 22:27:19,403 INFO sqlalchemy.engine.Engine SELECT name FROM sqlite_temp_master WHERE type='table' AND name NOT LIKE 'sqlite~_%' ESCAPE '~' ORDER BY name\n",
      "2024-06-03 22:27:19,404 INFO sqlalchemy.engine.Engine [raw sql] ()\n",
      "2024-06-03 22:27:19,405 INFO sqlalchemy.engine.Engine PRAGMA main.table_xinfo(\"housing\")\n",
      "2024-06-03 22:27:19,406 INFO sqlalchemy.engine.Engine [raw sql] ()\n",
      "2024-06-03 22:27:19,407 INFO sqlalchemy.engine.Engine SELECT sql FROM  (SELECT * FROM sqlite_master UNION ALL   SELECT * FROM sqlite_temp_master) WHERE name = ? AND type in ('table', 'view')\n",
      "2024-06-03 22:27:19,408 INFO sqlalchemy.engine.Engine [raw sql] ('housing',)\n",
      "2024-06-03 22:27:19,410 INFO sqlalchemy.engine.Engine PRAGMA main.foreign_key_list(\"housing\")\n",
      "2024-06-03 22:27:19,411 INFO sqlalchemy.engine.Engine [raw sql] ()\n",
      "2024-06-03 22:27:19,412 INFO sqlalchemy.engine.Engine PRAGMA temp.foreign_key_list(\"housing\")\n",
      "2024-06-03 22:27:19,413 INFO sqlalchemy.engine.Engine [raw sql] ()\n",
      "2024-06-03 22:27:19,414 INFO sqlalchemy.engine.Engine SELECT sql FROM  (SELECT * FROM sqlite_master UNION ALL   SELECT * FROM sqlite_temp_master) WHERE name = ? AND type in ('table', 'view')\n",
      "2024-06-03 22:27:19,416 INFO sqlalchemy.engine.Engine [raw sql] ('housing',)\n",
      "2024-06-03 22:27:19,419 INFO sqlalchemy.engine.Engine PRAGMA main.index_list(\"housing\")\n",
      "2024-06-03 22:27:19,420 INFO sqlalchemy.engine.Engine [raw sql] ()\n",
      "2024-06-03 22:27:19,421 INFO sqlalchemy.engine.Engine PRAGMA temp.index_list(\"housing\")\n",
      "2024-06-03 22:27:19,422 INFO sqlalchemy.engine.Engine [raw sql] ()\n",
      "2024-06-03 22:27:19,424 INFO sqlalchemy.engine.Engine PRAGMA main.table_info(\"housing\")\n",
      "2024-06-03 22:27:19,424 INFO sqlalchemy.engine.Engine [raw sql] ()\n",
      "2024-06-03 22:27:19,426 INFO sqlalchemy.engine.Engine PRAGMA main.index_list(\"housing\")\n",
      "2024-06-03 22:27:19,427 INFO sqlalchemy.engine.Engine [raw sql] ()\n",
      "2024-06-03 22:27:19,428 INFO sqlalchemy.engine.Engine PRAGMA temp.index_list(\"housing\")\n",
      "2024-06-03 22:27:19,428 INFO sqlalchemy.engine.Engine [raw sql] ()\n",
      "2024-06-03 22:27:19,429 INFO sqlalchemy.engine.Engine PRAGMA main.table_info(\"housing\")\n",
      "2024-06-03 22:27:19,430 INFO sqlalchemy.engine.Engine [raw sql] ()\n",
      "2024-06-03 22:27:19,431 INFO sqlalchemy.engine.Engine SELECT sql FROM  (SELECT * FROM sqlite_master UNION ALL   SELECT * FROM sqlite_temp_master) WHERE name = ? AND type in ('table', 'view')\n",
      "2024-06-03 22:27:19,432 INFO sqlalchemy.engine.Engine [raw sql] ('housing',)\n",
      "2024-06-03 22:27:19,435 INFO sqlalchemy.engine.Engine ROLLBACK\n"
     ]
    }
   ],
   "source": [
    "sql_database = SQLDatabase(engine, include_tables=[\"housing\"])"
   ]
  },
  {
   "cell_type": "code",
   "execution_count": 13,
   "metadata": {},
   "outputs": [],
   "source": [
    "from llama_index.llms.openai import OpenAI\n",
    "llm = OpenAI(temperature=0.1, model=\"gpt-3.5-turbo\")"
   ]
  },
  {
   "cell_type": "code",
   "execution_count": 17,
   "metadata": {},
   "outputs": [
    {
     "name": "stdout",
     "output_type": "stream",
     "text": [
      "2024-06-03 22:50:22,048 INFO sqlalchemy.engine.Engine BEGIN (implicit)\n",
      "2024-06-03 22:50:22,050 INFO sqlalchemy.engine.Engine SELECT name FROM sqlite_master WHERE type='table' AND name NOT LIKE 'sqlite~_%' ESCAPE '~' ORDER BY name\n",
      "2024-06-03 22:50:22,050 INFO sqlalchemy.engine.Engine [raw sql] ()\n",
      "2024-06-03 22:50:22,052 INFO sqlalchemy.engine.Engine SELECT name FROM sqlite_temp_master WHERE type='table' AND name NOT LIKE 'sqlite~_%' ESCAPE '~' ORDER BY name\n",
      "2024-06-03 22:50:22,052 INFO sqlalchemy.engine.Engine [raw sql] ()\n",
      "2024-06-03 22:50:22,053 INFO sqlalchemy.engine.Engine PRAGMA main.table_xinfo(\"housing\")\n",
      "2024-06-03 22:50:22,054 INFO sqlalchemy.engine.Engine [raw sql] ()\n",
      "2024-06-03 22:50:22,055 INFO sqlalchemy.engine.Engine SELECT sql FROM  (SELECT * FROM sqlite_master UNION ALL   SELECT * FROM sqlite_temp_master) WHERE name = ? AND type in ('table', 'view')\n",
      "2024-06-03 22:50:22,056 INFO sqlalchemy.engine.Engine [raw sql] ('housing',)\n",
      "2024-06-03 22:50:22,057 INFO sqlalchemy.engine.Engine PRAGMA main.foreign_key_list(\"housing\")\n",
      "2024-06-03 22:50:22,058 INFO sqlalchemy.engine.Engine [raw sql] ()\n",
      "2024-06-03 22:50:22,058 INFO sqlalchemy.engine.Engine PRAGMA temp.foreign_key_list(\"housing\")\n",
      "2024-06-03 22:50:22,059 INFO sqlalchemy.engine.Engine [raw sql] ()\n",
      "2024-06-03 22:50:22,060 INFO sqlalchemy.engine.Engine SELECT sql FROM  (SELECT * FROM sqlite_master UNION ALL   SELECT * FROM sqlite_temp_master) WHERE name = ? AND type in ('table', 'view')\n",
      "2024-06-03 22:50:22,061 INFO sqlalchemy.engine.Engine [raw sql] ('housing',)\n",
      "2024-06-03 22:50:22,062 INFO sqlalchemy.engine.Engine PRAGMA main.index_list(\"housing\")\n",
      "2024-06-03 22:50:22,062 INFO sqlalchemy.engine.Engine [raw sql] ()\n",
      "2024-06-03 22:50:22,064 INFO sqlalchemy.engine.Engine PRAGMA temp.index_list(\"housing\")\n",
      "2024-06-03 22:50:22,065 INFO sqlalchemy.engine.Engine [raw sql] ()\n",
      "2024-06-03 22:50:22,066 INFO sqlalchemy.engine.Engine PRAGMA main.table_info(\"housing\")\n",
      "2024-06-03 22:50:22,067 INFO sqlalchemy.engine.Engine [raw sql] ()\n",
      "2024-06-03 22:50:22,069 INFO sqlalchemy.engine.Engine PRAGMA main.index_list(\"housing\")\n",
      "2024-06-03 22:50:22,070 INFO sqlalchemy.engine.Engine [raw sql] ()\n",
      "2024-06-03 22:50:22,071 INFO sqlalchemy.engine.Engine PRAGMA temp.index_list(\"housing\")\n",
      "2024-06-03 22:50:22,072 INFO sqlalchemy.engine.Engine [raw sql] ()\n",
      "2024-06-03 22:50:22,073 INFO sqlalchemy.engine.Engine PRAGMA main.table_info(\"housing\")\n",
      "2024-06-03 22:50:22,074 INFO sqlalchemy.engine.Engine [raw sql] ()\n",
      "2024-06-03 22:50:22,076 INFO sqlalchemy.engine.Engine SELECT sql FROM  (SELECT * FROM sqlite_master UNION ALL   SELECT * FROM sqlite_temp_master) WHERE name = ? AND type in ('table', 'view')\n",
      "2024-06-03 22:50:22,077 INFO sqlalchemy.engine.Engine [raw sql] ('housing',)\n",
      "2024-06-03 22:50:22,079 INFO sqlalchemy.engine.Engine ROLLBACK\n",
      "<class 'sqlalchemy.sql.schema.Table'>\n",
      "2024-06-03 22:50:22,082 INFO sqlalchemy.engine.Engine BEGIN (implicit)\n",
      "2024-06-03 22:50:22,083 INFO sqlalchemy.engine.Engine SELECT * \n",
      "FROM housing\n",
      " LIMIT ? OFFSET ?\n",
      "2024-06-03 22:50:22,084 INFO sqlalchemy.engine.Engine [generated in 0.00186s] (10, 0)\n",
      "(5008804, 1, 1, 1, 1, 0, 0, 0, 0, 2, 15, 427500.0, 32.86857361889703, 12.4355736257418, 'Working', 'Higher education', 'Civil marriage', 'Rented apartment', 'Other', 1)\n",
      "(5008806, 1, 1, 1, 0, 0, 0, 0, 0, 2, 29, 112500.0, 58.79381506807121, 3.104786545924968, 'Working', 'Secondary / secondary special', 'Married', 'House / apartment', 'Security staff', 0)\n",
      "(5008808, 0, 0, 1, 0, 1, 1, 0, 0, 1, 4, 270000.0, 52.32140290355038, 8.353354278321937, 'Commercial associate', 'Secondary / secondary special', 'Single / not married', 'House / apartment', 'Sales staff', 0)\n",
      "(5008812, 0, 0, 1, 0, 0, 0, 1, 0, 1, 20, 283500.0, 61.50434300498984, 0.0, 'Pensioner', 'Higher education', 'Separated', 'House / apartment', 'Other', 0)\n",
      "(5008815, 1, 1, 1, 1, 1, 1, 0, 0, 2, 5, 270000.0, 46.1939670219101, 2.1054504883741623, 'Working', 'Higher education', 'Married', 'House / apartment', 'Accountants', 0)\n",
      "(5008819, 1, 1, 1, 0, 0, 0, 0, 0, 2, 17, 135000.0, 48.67451077024169, 3.269060966344278, 'Commercial associate', 'Secondary / secondary special', 'Married', 'House / apartment', 'Laborers', 0)\n",
      "(5008825, 0, 1, 0, 0, 0, 0, 0, 0, 2, 25, 130500.0, 29.210729857560388, 3.019911428708324, 'Working', 'Incomplete higher', 'Married', 'House / apartment', 'Accountants', 1)\n",
      "(5008830, 0, 0, 1, 0, 1, 0, 0, 0, 2, 31, 157500.0, 27.46394518710172, 4.021985393266117, 'Working', 'Secondary / secondary special', 'Married', 'House / apartment', 'Laborers', 1)\n",
      "(5008834, 0, 0, 1, 0, 0, 0, 0, 1, 2, 44, 112500.0, 30.02936405264995, 4.435409351321383, 'Working', 'Secondary / secondary special', 'Single / not married', 'House / apartment', 'Other', 0)\n",
      "(5008836, 1, 1, 1, 0, 0, 0, 0, 3, 5, 24, 270000.0, 34.74130201167717, 3.1841858491276342, 'Working', 'Secondary / secondary special', 'Married', 'House / apartment', 'Laborers', 0)\n"
     ]
    }
   ],
   "source": [
    "metadata = MetaData()\n",
    "metadata.reflect(bind=engine)\n",
    "housing_table = Table('housing', metadata, autoload=True, autoload_with=engine)\n",
    "print(type(housing_table))\n",
    "\n",
    "# Create a SQLAlchemy connection\n",
    "connection = engine.connect()\n",
    "\n",
    "# Sample SQL query\n",
    "query = select('*').select_from(housing_table).limit(10)\n",
    "\n",
    "\n",
    "# Execute the query\n",
    "result = connection.execute(query)\n",
    "\n",
    "# Fetch and print the results\n",
    "for row in result:\n",
    "    print(row)"
   ]
  },
  {
   "cell_type": "code",
   "execution_count": 18,
   "metadata": {},
   "outputs": [
    {
     "name": "stdout",
     "output_type": "stream",
     "text": [
      "2024-06-03 22:50:25,779 INFO sqlalchemy.engine.Engine BEGIN (implicit)\n",
      "2024-06-03 22:50:25,780 INFO sqlalchemy.engine.Engine SELECT Target,Total_income from housing Where age >= 35 Order by Total_income Desc limit 10\n",
      "2024-06-03 22:50:25,781 INFO sqlalchemy.engine.Engine [generated in 0.00212s] ()\n",
      "(1, 1350000.0)\n",
      "(1, 1125000.0)\n",
      "(0, 1125000.0)\n",
      "(0, 1125000.0)\n",
      "(0, 990000.0)\n",
      "(0, 945000.0)\n",
      "(1, 900000.0)\n",
      "(1, 900000.0)\n",
      "(0, 900000.0)\n",
      "(0, 900000.0)\n",
      "2024-06-03 22:50:25,786 INFO sqlalchemy.engine.Engine ROLLBACK\n"
     ]
    }
   ],
   "source": [
    "from sqlalchemy import text\n",
    "\n",
    "with engine.connect() as con:\n",
    "    rows = con.execute(text(\"SELECT Target,Total_income from housing Where age >= 35 Order by Total_income Desc limit 10\"))\n",
    "    for row in rows:\n",
    "        print(row)"
   ]
  },
  {
   "cell_type": "code",
   "execution_count": 22,
   "metadata": {},
   "outputs": [
    {
     "name": "stdout",
     "output_type": "stream",
     "text": [
      "Collecting llama-index-embeddings-openai\n",
      "  Using cached llama_index_embeddings_openai-0.1.10-py3-none-any.whl.metadata (604 bytes)\n",
      "Requirement already satisfied: llama-index-core<0.11.0,>=0.10.1 in c:\\users\\ashish\\appdata\\local\\programs\\python\\python39\\lib\\site-packages (from llama-index-embeddings-openai) (0.10.43)\n",
      "Requirement already satisfied: PyYAML>=6.0.1 in c:\\users\\ashish\\appdata\\local\\programs\\python\\python39\\lib\\site-packages (from llama-index-core<0.11.0,>=0.10.1->llama-index-embeddings-openai) (6.0.1)\n",
      "Requirement already satisfied: SQLAlchemy>=1.4.49 in c:\\users\\ashish\\appdata\\local\\programs\\python\\python39\\lib\\site-packages (from SQLAlchemy[asyncio]>=1.4.49->llama-index-core<0.11.0,>=0.10.1->llama-index-embeddings-openai) (2.0.28)\n",
      "Requirement already satisfied: aiohttp<4.0.0,>=3.8.6 in c:\\users\\ashish\\appdata\\local\\programs\\python\\python39\\lib\\site-packages (from llama-index-core<0.11.0,>=0.10.1->llama-index-embeddings-openai) (3.9.3)\n",
      "Requirement already satisfied: dataclasses-json in c:\\users\\ashish\\appdata\\local\\programs\\python\\python39\\lib\\site-packages (from llama-index-core<0.11.0,>=0.10.1->llama-index-embeddings-openai) (0.6.4)\n",
      "Requirement already satisfied: deprecated>=1.2.9.3 in c:\\users\\ashish\\appdata\\local\\programs\\python\\python39\\lib\\site-packages (from llama-index-core<0.11.0,>=0.10.1->llama-index-embeddings-openai) (1.2.14)\n",
      "Requirement already satisfied: dirtyjson<2.0.0,>=1.0.8 in c:\\users\\ashish\\appdata\\local\\programs\\python\\python39\\lib\\site-packages (from llama-index-core<0.11.0,>=0.10.1->llama-index-embeddings-openai) (1.0.8)\n",
      "Requirement already satisfied: fsspec>=2023.5.0 in c:\\users\\ashish\\appdata\\local\\programs\\python\\python39\\lib\\site-packages (from llama-index-core<0.11.0,>=0.10.1->llama-index-embeddings-openai) (2023.12.2)\n",
      "Requirement already satisfied: httpx in c:\\users\\ashish\\appdata\\local\\programs\\python\\python39\\lib\\site-packages (from llama-index-core<0.11.0,>=0.10.1->llama-index-embeddings-openai) (0.24.1)\n",
      "Requirement already satisfied: llamaindex-py-client<0.2.0,>=0.1.18 in c:\\users\\ashish\\appdata\\local\\programs\\python\\python39\\lib\\site-packages (from llama-index-core<0.11.0,>=0.10.1->llama-index-embeddings-openai) (0.1.19)\n",
      "Requirement already satisfied: nest-asyncio<2.0.0,>=1.5.8 in c:\\users\\ashish\\appdata\\local\\programs\\python\\python39\\lib\\site-packages (from llama-index-core<0.11.0,>=0.10.1->llama-index-embeddings-openai) (1.6.0)\n",
      "Requirement already satisfied: networkx>=3.0 in c:\\users\\ashish\\appdata\\local\\programs\\python\\python39\\lib\\site-packages (from llama-index-core<0.11.0,>=0.10.1->llama-index-embeddings-openai) (3.1)\n",
      "Requirement already satisfied: nltk<4.0.0,>=3.8.1 in c:\\users\\ashish\\appdata\\local\\programs\\python\\python39\\lib\\site-packages (from llama-index-core<0.11.0,>=0.10.1->llama-index-embeddings-openai) (3.8.1)\n",
      "Requirement already satisfied: numpy in c:\\users\\ashish\\appdata\\local\\programs\\python\\python39\\lib\\site-packages (from llama-index-core<0.11.0,>=0.10.1->llama-index-embeddings-openai) (1.23.5)\n",
      "Requirement already satisfied: openai>=1.1.0 in c:\\users\\ashish\\appdata\\local\\programs\\python\\python39\\lib\\site-packages (from llama-index-core<0.11.0,>=0.10.1->llama-index-embeddings-openai) (1.13.3)\n",
      "Requirement already satisfied: pandas in c:\\users\\ashish\\appdata\\local\\programs\\python\\python39\\lib\\site-packages (from llama-index-core<0.11.0,>=0.10.1->llama-index-embeddings-openai) (2.2.0)\n",
      "Requirement already satisfied: pillow>=9.0.0 in c:\\users\\ashish\\appdata\\local\\programs\\python\\python39\\lib\\site-packages (from llama-index-core<0.11.0,>=0.10.1->llama-index-embeddings-openai) (9.4.0)\n",
      "Requirement already satisfied: requests>=2.31.0 in c:\\users\\ashish\\appdata\\local\\programs\\python\\python39\\lib\\site-packages (from llama-index-core<0.11.0,>=0.10.1->llama-index-embeddings-openai) (2.31.0)\n",
      "Requirement already satisfied: tenacity<9.0.0,>=8.2.0 in c:\\users\\ashish\\appdata\\local\\programs\\python\\python39\\lib\\site-packages (from llama-index-core<0.11.0,>=0.10.1->llama-index-embeddings-openai) (8.2.3)\n",
      "Requirement already satisfied: tiktoken>=0.3.3 in c:\\users\\ashish\\appdata\\local\\programs\\python\\python39\\lib\\site-packages (from llama-index-core<0.11.0,>=0.10.1->llama-index-embeddings-openai) (0.6.0)\n",
      "Requirement already satisfied: tqdm<5.0.0,>=4.66.1 in c:\\users\\ashish\\appdata\\local\\programs\\python\\python39\\lib\\site-packages (from llama-index-core<0.11.0,>=0.10.1->llama-index-embeddings-openai) (4.66.1)\n",
      "Requirement already satisfied: typing-extensions>=4.5.0 in c:\\users\\ashish\\appdata\\local\\programs\\python\\python39\\lib\\site-packages (from llama-index-core<0.11.0,>=0.10.1->llama-index-embeddings-openai) (4.10.0)\n",
      "Requirement already satisfied: typing-inspect>=0.8.0 in c:\\users\\ashish\\appdata\\local\\programs\\python\\python39\\lib\\site-packages (from llama-index-core<0.11.0,>=0.10.1->llama-index-embeddings-openai) (0.9.0)\n",
      "Requirement already satisfied: wrapt in c:\\users\\ashish\\appdata\\roaming\\python\\python39\\site-packages (from llama-index-core<0.11.0,>=0.10.1->llama-index-embeddings-openai) (1.12.1)\n",
      "Requirement already satisfied: aiosignal>=1.1.2 in c:\\users\\ashish\\appdata\\local\\programs\\python\\python39\\lib\\site-packages (from aiohttp<4.0.0,>=3.8.6->llama-index-core<0.11.0,>=0.10.1->llama-index-embeddings-openai) (1.3.1)\n",
      "Requirement already satisfied: attrs>=17.3.0 in c:\\users\\ashish\\appdata\\local\\programs\\python\\python39\\lib\\site-packages (from aiohttp<4.0.0,>=3.8.6->llama-index-core<0.11.0,>=0.10.1->llama-index-embeddings-openai) (23.2.0)\n",
      "Requirement already satisfied: frozenlist>=1.1.1 in c:\\users\\ashish\\appdata\\local\\programs\\python\\python39\\lib\\site-packages (from aiohttp<4.0.0,>=3.8.6->llama-index-core<0.11.0,>=0.10.1->llama-index-embeddings-openai) (1.4.1)\n",
      "Requirement already satisfied: multidict<7.0,>=4.5 in c:\\users\\ashish\\appdata\\local\\programs\\python\\python39\\lib\\site-packages (from aiohttp<4.0.0,>=3.8.6->llama-index-core<0.11.0,>=0.10.1->llama-index-embeddings-openai) (6.0.5)\n",
      "Requirement already satisfied: yarl<2.0,>=1.0 in c:\\users\\ashish\\appdata\\local\\programs\\python\\python39\\lib\\site-packages (from aiohttp<4.0.0,>=3.8.6->llama-index-core<0.11.0,>=0.10.1->llama-index-embeddings-openai) (1.9.4)\n",
      "Requirement already satisfied: async-timeout<5.0,>=4.0 in c:\\users\\ashish\\appdata\\local\\programs\\python\\python39\\lib\\site-packages (from aiohttp<4.0.0,>=3.8.6->llama-index-core<0.11.0,>=0.10.1->llama-index-embeddings-openai) (4.0.3)\n",
      "Requirement already satisfied: pydantic>=1.10 in c:\\users\\ashish\\appdata\\local\\programs\\python\\python39\\lib\\site-packages (from llamaindex-py-client<0.2.0,>=0.1.18->llama-index-core<0.11.0,>=0.10.1->llama-index-embeddings-openai) (2.6.3)\n",
      "Requirement already satisfied: certifi in c:\\users\\ashish\\appdata\\local\\programs\\python\\python39\\lib\\site-packages (from httpx->llama-index-core<0.11.0,>=0.10.1->llama-index-embeddings-openai) (2023.5.7)\n",
      "Requirement already satisfied: httpcore<0.18.0,>=0.15.0 in c:\\users\\ashish\\appdata\\local\\programs\\python\\python39\\lib\\site-packages (from httpx->llama-index-core<0.11.0,>=0.10.1->llama-index-embeddings-openai) (0.17.2)\n",
      "Requirement already satisfied: idna in c:\\users\\ashish\\appdata\\local\\programs\\python\\python39\\lib\\site-packages (from httpx->llama-index-core<0.11.0,>=0.10.1->llama-index-embeddings-openai) (3.4)\n",
      "Requirement already satisfied: sniffio in c:\\users\\ashish\\appdata\\local\\programs\\python\\python39\\lib\\site-packages (from httpx->llama-index-core<0.11.0,>=0.10.1->llama-index-embeddings-openai) (1.3.0)\n",
      "Requirement already satisfied: click in c:\\users\\ashish\\appdata\\local\\programs\\python\\python39\\lib\\site-packages (from nltk<4.0.0,>=3.8.1->llama-index-core<0.11.0,>=0.10.1->llama-index-embeddings-openai) (8.1.7)\n",
      "Requirement already satisfied: joblib in c:\\users\\ashish\\appdata\\local\\programs\\python\\python39\\lib\\site-packages (from nltk<4.0.0,>=3.8.1->llama-index-core<0.11.0,>=0.10.1->llama-index-embeddings-openai) (1.3.2)\n",
      "Requirement already satisfied: regex>=2021.8.3 in c:\\users\\ashish\\appdata\\local\\programs\\python\\python39\\lib\\site-packages (from nltk<4.0.0,>=3.8.1->llama-index-core<0.11.0,>=0.10.1->llama-index-embeddings-openai) (2023.10.3)\n",
      "Requirement already satisfied: anyio<5,>=3.5.0 in c:\\users\\ashish\\appdata\\local\\programs\\python\\python39\\lib\\site-packages (from openai>=1.1.0->llama-index-core<0.11.0,>=0.10.1->llama-index-embeddings-openai) (3.7.0)\n",
      "Requirement already satisfied: distro<2,>=1.7.0 in c:\\users\\ashish\\appdata\\local\\programs\\python\\python39\\lib\\site-packages (from openai>=1.1.0->llama-index-core<0.11.0,>=0.10.1->llama-index-embeddings-openai) (1.8.0)\n",
      "Requirement already satisfied: charset-normalizer<4,>=2 in c:\\users\\ashish\\appdata\\local\\programs\\python\\python39\\lib\\site-packages (from requests>=2.31.0->llama-index-core<0.11.0,>=0.10.1->llama-index-embeddings-openai) (3.1.0)\n",
      "Requirement already satisfied: urllib3<3,>=1.21.1 in c:\\users\\ashish\\appdata\\local\\programs\\python\\python39\\lib\\site-packages (from requests>=2.31.0->llama-index-core<0.11.0,>=0.10.1->llama-index-embeddings-openai) (1.26.16)\n",
      "Requirement already satisfied: greenlet!=0.4.17 in c:\\users\\ashish\\appdata\\local\\programs\\python\\python39\\lib\\site-packages (from SQLAlchemy>=1.4.49->SQLAlchemy[asyncio]>=1.4.49->llama-index-core<0.11.0,>=0.10.1->llama-index-embeddings-openai) (3.0.3)\n",
      "Requirement already satisfied: colorama in c:\\users\\ashish\\appdata\\roaming\\python\\python39\\site-packages (from tqdm<5.0.0,>=4.66.1->llama-index-core<0.11.0,>=0.10.1->llama-index-embeddings-openai) (0.4.4)\n",
      "Requirement already satisfied: mypy-extensions>=0.3.0 in c:\\users\\ashish\\appdata\\local\\programs\\python\\python39\\lib\\site-packages (from typing-inspect>=0.8.0->llama-index-core<0.11.0,>=0.10.1->llama-index-embeddings-openai) (1.0.0)\n",
      "Requirement already satisfied: marshmallow<4.0.0,>=3.18.0 in c:\\users\\ashish\\appdata\\local\\programs\\python\\python39\\lib\\site-packages (from dataclasses-json->llama-index-core<0.11.0,>=0.10.1->llama-index-embeddings-openai) (3.21.1)\n",
      "Requirement already satisfied: python-dateutil>=2.8.2 in c:\\users\\ashish\\appdata\\local\\programs\\python\\python39\\lib\\site-packages (from pandas->llama-index-core<0.11.0,>=0.10.1->llama-index-embeddings-openai) (2.8.2)\n",
      "Requirement already satisfied: pytz>=2020.1 in c:\\users\\ashish\\appdata\\local\\programs\\python\\python39\\lib\\site-packages (from pandas->llama-index-core<0.11.0,>=0.10.1->llama-index-embeddings-openai) (2024.1)\n",
      "Requirement already satisfied: tzdata>=2022.7 in c:\\users\\ashish\\appdata\\local\\programs\\python\\python39\\lib\\site-packages (from pandas->llama-index-core<0.11.0,>=0.10.1->llama-index-embeddings-openai) (2024.1)\n",
      "Requirement already satisfied: exceptiongroup in c:\\users\\ashish\\appdata\\local\\programs\\python\\python39\\lib\\site-packages (from anyio<5,>=3.5.0->openai>=1.1.0->llama-index-core<0.11.0,>=0.10.1->llama-index-embeddings-openai) (1.1.1)\n",
      "Requirement already satisfied: h11<0.15,>=0.13 in c:\\users\\ashish\\appdata\\local\\programs\\python\\python39\\lib\\site-packages (from httpcore<0.18.0,>=0.15.0->httpx->llama-index-core<0.11.0,>=0.10.1->llama-index-embeddings-openai) (0.14.0)\n",
      "Requirement already satisfied: packaging>=17.0 in c:\\users\\ashish\\appdata\\local\\programs\\python\\python39\\lib\\site-packages (from marshmallow<4.0.0,>=3.18.0->dataclasses-json->llama-index-core<0.11.0,>=0.10.1->llama-index-embeddings-openai) (23.2)\n",
      "Requirement already satisfied: annotated-types>=0.4.0 in c:\\users\\ashish\\appdata\\local\\programs\\python\\python39\\lib\\site-packages (from pydantic>=1.10->llamaindex-py-client<0.2.0,>=0.1.18->llama-index-core<0.11.0,>=0.10.1->llama-index-embeddings-openai) (0.6.0)\n",
      "Requirement already satisfied: pydantic-core==2.16.3 in c:\\users\\ashish\\appdata\\local\\programs\\python\\python39\\lib\\site-packages (from pydantic>=1.10->llamaindex-py-client<0.2.0,>=0.1.18->llama-index-core<0.11.0,>=0.10.1->llama-index-embeddings-openai) (2.16.3)\n",
      "Requirement already satisfied: six>=1.5 in c:\\users\\ashish\\appdata\\roaming\\python\\python39\\site-packages (from python-dateutil>=2.8.2->pandas->llama-index-core<0.11.0,>=0.10.1->llama-index-embeddings-openai) (1.15.0)\n",
      "Using cached llama_index_embeddings_openai-0.1.10-py3-none-any.whl (6.2 kB)\n",
      "Installing collected packages: llama-index-embeddings-openai\n",
      "Successfully installed llama-index-embeddings-openai-0.1.10\n",
      "Note: you may need to restart the kernel to use updated packages.\n"
     ]
    },
    {
     "name": "stderr",
     "output_type": "stream",
     "text": [
      "\n",
      "[notice] A new release of pip is available: 23.3.1 -> 24.0\n",
      "[notice] To update, run: python.exe -m pip install --upgrade pip\n"
     ]
    }
   ],
   "source": [
    "pip install llama-index-embeddings-openai"
   ]
  },
  {
   "cell_type": "markdown",
   "metadata": {},
   "source": [
    "## For Small Schema "
   ]
  },
  {
   "cell_type": "code",
   "execution_count": 23,
   "metadata": {},
   "outputs": [
    {
     "name": "stdout",
     "output_type": "stream",
     "text": [
      "2024-06-03 22:52:20,972 INFO sqlalchemy.engine.Engine BEGIN (implicit)\n",
      "2024-06-03 22:52:20,973 INFO sqlalchemy.engine.Engine PRAGMA main.table_xinfo(\"housing\")\n",
      "2024-06-03 22:52:20,974 INFO sqlalchemy.engine.Engine [raw sql] ()\n",
      "2024-06-03 22:52:20,976 INFO sqlalchemy.engine.Engine ROLLBACK\n",
      "2024-06-03 22:52:20,977 INFO sqlalchemy.engine.Engine BEGIN (implicit)\n",
      "2024-06-03 22:52:20,979 INFO sqlalchemy.engine.Engine PRAGMA main.foreign_key_list(\"housing\")\n",
      "2024-06-03 22:52:20,979 INFO sqlalchemy.engine.Engine [raw sql] ()\n",
      "2024-06-03 22:52:20,981 INFO sqlalchemy.engine.Engine PRAGMA temp.foreign_key_list(\"housing\")\n",
      "2024-06-03 22:52:20,982 INFO sqlalchemy.engine.Engine [raw sql] ()\n",
      "2024-06-03 22:52:20,984 INFO sqlalchemy.engine.Engine SELECT sql FROM  (SELECT * FROM sqlite_master UNION ALL   SELECT * FROM sqlite_temp_master) WHERE name = ? AND type in ('table', 'view')\n",
      "2024-06-03 22:52:20,984 INFO sqlalchemy.engine.Engine [raw sql] ('housing',)\n",
      "2024-06-03 22:52:20,986 INFO sqlalchemy.engine.Engine ROLLBACK\n",
      "2024-06-03 22:52:22,379 INFO sqlalchemy.engine.Engine BEGIN (implicit)\n",
      "2024-06-03 22:52:22,380 INFO sqlalchemy.engine.Engine SELECT COUNT(ID) \n",
      "FROM housing \n",
      "WHERE Unemployed = 1 AND Target = 1\n",
      "2024-06-03 22:52:22,381 INFO sqlalchemy.engine.Engine [generated in 0.00061s] ()\n",
      "2024-06-03 22:52:22,383 INFO sqlalchemy.engine.Engine COMMIT\n"
     ]
    }
   ],
   "source": [
    "from llama_index.core.query_engine import NLSQLTableQueryEngine\n",
    "\n",
    "query_engine = NLSQLTableQueryEngine(\n",
    "    sql_database=sql_database, tables=[\"housing\"], llm=llm,verbose=True\n",
    ")\n",
    "query_str = \"what is the number of person who are unemployed but their target is 1 ?\"\n",
    "response = query_engine.query(query_str)"
   ]
  },
  {
   "cell_type": "code",
   "execution_count": 24,
   "metadata": {},
   "outputs": [
    {
     "data": {
      "text/markdown": [
       "<b>There are 193 people who are unemployed and have a target of 1.</b>"
      ],
      "text/plain": [
       "<IPython.core.display.Markdown object>"
      ]
     },
     "metadata": {},
     "output_type": "display_data"
    }
   ],
   "source": [
    "display(Markdown(f\"<b>{response}</b>\"))"
   ]
  },
  {
   "cell_type": "code",
   "execution_count": 25,
   "metadata": {},
   "outputs": [
    {
     "name": "stdout",
     "output_type": "stream",
     "text": [
      "There are 193 people who are unemployed and have a target of 1.\n"
     ]
    }
   ],
   "source": [
    "print(response)"
   ]
  },
  {
   "cell_type": "markdown",
   "metadata": {},
   "source": [
    "## For Very Big Schema"
   ]
  },
  {
   "cell_type": "code",
   "execution_count": 26,
   "metadata": {},
   "outputs": [],
   "source": [
    "from llama_index.core.indices.struct_store.sql_query import (\n",
    "    SQLTableRetrieverQueryEngine,\n",
    ")\n",
    "from llama_index.core.objects import (\n",
    "    SQLTableNodeMapping,\n",
    "    ObjectIndex,\n",
    "    SQLTableSchema,\n",
    ")\n",
    "from llama_index.core import VectorStoreIndex\n",
    "\n",
    "# set Logging to DEBUG for more detailed outputs\n",
    "table_node_mapping = SQLTableNodeMapping(sql_database)\n",
    "table_schema_objs = [\n",
    "    (SQLTableSchema(table_name=\"housing\"))\n",
    "]  # add a SQLTableSchema for each table\n",
    "\n",
    "obj_index = ObjectIndex.from_objects(\n",
    "    table_schema_objs,\n",
    "    table_node_mapping,\n",
    "    VectorStoreIndex,\n",
    ")\n",
    "query_engine = SQLTableRetrieverQueryEngine(\n",
    "    sql_database, obj_index.as_retriever(similarity_top_k=1)\n",
    ")"
   ]
  },
  {
   "cell_type": "code",
   "execution_count": 27,
   "metadata": {},
   "outputs": [
    {
     "name": "stdout",
     "output_type": "stream",
     "text": [
      "2024-06-03 22:57:11,385 INFO sqlalchemy.engine.Engine BEGIN (implicit)\n",
      "2024-06-03 22:57:11,386 INFO sqlalchemy.engine.Engine SELECT ID, Total_income, Age\n",
      "FROM housing\n",
      "WHERE Years_employed > 12 AND Family_status = 'Married' AND Target = 0\n",
      "ORDER BY Total_income DESC\n",
      "LIMIT 1;\n",
      "2024-06-03 22:57:11,387 INFO sqlalchemy.engine.Engine [generated in 0.00098s] ()\n",
      "2024-06-03 22:57:11,390 INFO sqlalchemy.engine.Engine COMMIT\n"
     ]
    },
    {
     "data": {
      "text/markdown": [
       "<b>The person who is employed for more than 12 years, has the highest income, is married, and has a target of 0 is ID 5067560. They are 41 years old.</b>"
      ],
      "text/plain": [
       "<IPython.core.display.Markdown object>"
      ]
     },
     "metadata": {},
     "output_type": "display_data"
    }
   ],
   "source": [
    "response = query_engine.query(\"Which person  is employed for more than 12 year and  has the highest income and is married is target 0  also tell me the age?\")\n",
    "display(Markdown(f\"<b>{response}</b>\"))"
   ]
  },
  {
   "cell_type": "code",
   "execution_count": 28,
   "metadata": {},
   "outputs": [],
   "source": [
    "context_text = (\n",
    "    \"\"\"\n",
    "    You are a credit risk analyzer tasked with providing information about individuals who may default on loans. We have their economic and personal information, and using that, we need the required insights.\n",
    "\n",
    "    **Table Schema**\n",
    "    - ID: An identifier for each individual (person) (int).\n",
    "    - Gender: The gender of the individual (bool). (0 for male, 1 for female)\n",
    "    - Own_car: A binary feature indicating whether the individual owns a car (bool).\n",
    "    - Own_property: A binary feature indicating whether the individual owns a property (bool).\n",
    "    - Work_phone: A binary feature indicating whether the individual has a work phone (bool).\n",
    "    - Phone: A binary feature indicating whether the individual has a phone (bool).\n",
    "    - Email: A binary feature indicating whether the individual has provided an email address (bool).\n",
    "    - Unemployed: A binary feature indicating whether the individual is unemployed (bool). (0 for employed, 1 for unemployed)\n",
    "    - Num_children: The number of children the individual has (int).\n",
    "    - Num_family: The total number of family members (int).\n",
    "    - Account_length: The length of the individual's account with a bank or financial institution (int).\n",
    "    - Total_income: The total income of the individual (float).\n",
    "    - Age: The age of the individual (float).\n",
    "    - Years_employed: The number of years the individual has been employed (float).\n",
    "    - Income_type: The type of income (Working, Commercial associate, Pensioner, State servant, Student) (string).\n",
    "    - Education_type: The education level of the individual (Higher education, Secondary / secondary special, Incomplete higher, Lower secondary, Academic degree) (string).\n",
    "    - Family_status: The family status of the individual(Civil marriage, Married, Single / not married, Separated,  Widow) (string).\n",
    "    - Housing_type: The type of housing the individual lives in (rented apartment, house/apartment, municipal apartment, with parents, co-op apartment, office apartment.) (string).\n",
    "    - Occupation_type: The type of occupation the individual is engaged in(Other, Security staff, Sales staff, Accountants, Laborers, Managers, Drivers, Core staff, High skill tech staff, Cleaning staff, Private service staff, Cooking staff, Low-skill Laborers, Medicine staff, Secretaries, Waiters/barmen staff, HR staff, Realty agents, IT staff) (string).\n",
    "    - Target: The target variable for the classification task, indicating whether the individual is eligible for a credit card or not (bool). (0 for not eligible, 1 for eligible)\n",
    "    \"\"\"\n",
    ")\n",
    "\n",
    "table_node_mapping = SQLTableNodeMapping(sql_database)\n",
    "table_schema_objs = [\n",
    "    (SQLTableSchema(table_name=\"housing\", context_str=context_text))\n",
    "]"
   ]
  },
  {
   "cell_type": "code",
   "execution_count": 29,
   "metadata": {},
   "outputs": [
    {
     "name": "stdout",
     "output_type": "stream",
     "text": [
      "2024-06-03 22:59:25,962 INFO sqlalchemy.engine.Engine BEGIN (implicit)\n",
      "2024-06-03 22:59:25,964 INFO sqlalchemy.engine.Engine SELECT Income_type, AVG(Total_income) AS Average_income, COUNT(*) AS Num_people_eligible\n",
      "FROM housing\n",
      "GROUP BY Income_type\n",
      "ORDER BY Average_income DESC;\n",
      "2024-06-03 22:59:25,965 INFO sqlalchemy.engine.Engine [generated in 0.00139s] ()\n",
      "2024-06-03 22:59:25,970 INFO sqlalchemy.engine.Engine COMMIT\n"
     ]
    },
    {
     "data": {
      "text/markdown": [
       "<b>The unique income types with their average income in their respective categories are as follows: Commercial associate with an average income of 211,983.13, State servant with an average income of 195,241.78, Working with an average income of 176,909.58, Pensioner with an average income of 146,369.74, and Student with an average income of 139,500. Additionally, there are 2,312 Commercial associates, 722 State servants, 4,960 Working individuals, 1,712 Pensioners, and 3 Students who are eligible for a credit card.</b>"
      ],
      "text/plain": [
       "<IPython.core.display.Markdown object>"
      ]
     },
     "metadata": {},
     "output_type": "display_data"
    }
   ],
   "source": [
    "response = query_engine.query(\"give me all the unique income type with their average income in their respective category and the number of people which are egligible for credit card or not\")\n",
    "display(Markdown(f\"<b>{response}</b>\"))"
   ]
  },
  {
   "cell_type": "code",
   "execution_count": null,
   "metadata": {},
   "outputs": [],
   "source": []
  }
 ],
 "metadata": {
  "kernelspec": {
   "display_name": "Python 3",
   "language": "python",
   "name": "python3"
  },
  "language_info": {
   "codemirror_mode": {
    "name": "ipython",
    "version": 3
   },
   "file_extension": ".py",
   "mimetype": "text/x-python",
   "name": "python",
   "nbconvert_exporter": "python",
   "pygments_lexer": "ipython3",
   "version": "3.9.1"
  }
 },
 "nbformat": 4,
 "nbformat_minor": 2
}
